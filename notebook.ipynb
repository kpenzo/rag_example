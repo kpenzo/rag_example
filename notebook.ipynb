{
 "cells": [
  {
   "cell_type": "code",
   "execution_count": null,
   "metadata": {},
   "outputs": [],
   "source": []
  },
  {
   "cell_type": "code",
   "execution_count": 1,
   "metadata": {},
   "outputs": [
    {
     "data": {
      "text/plain": [
       "False"
      ]
     },
     "execution_count": 1,
     "metadata": {},
     "output_type": "execute_result"
    }
   ],
   "source": [
    "from dotenv import load_dotenv\n",
    "\n",
    "load_dotenv()"
   ]
  },
  {
   "cell_type": "code",
   "execution_count": 6,
   "metadata": {},
   "outputs": [],
   "source": [
    "from langchain_community.llms import Ollama\n",
    "from langchain_community.embeddings import OllamaEmbeddings\n",
    "\n",
    "MODEL = \"llama3\"\n",
    "model = Ollama(model=MODEL)\n",
    "embeddings = OllamaEmbeddings(model=MODEL)"
   ]
  },
  {
   "cell_type": "code",
   "execution_count": 7,
   "metadata": {},
   "outputs": [],
   "source": [
    "from langchain_core.output_parsers import StrOutputParser\n",
    "\n",
    "parser = StrOutputParser()"
   ]
  },
  {
   "cell_type": "code",
   "execution_count": 20,
   "metadata": {},
   "outputs": [],
   "source": [
    "from langchain.prompts import PromptTemplate\n",
    "\n",
    "template = \"\"\"\n",
    "    Context: {context}\n",
    "\n",
    "    Question: {question}\n",
    " \"\"\"\n",
    "\n",
    "prompt = PromptTemplate.from_template(template)"
   ]
  },
  {
   "cell_type": "code",
   "execution_count": 21,
   "metadata": {},
   "outputs": [
    {
     "data": {
      "text/plain": [
       "[Document(page_content='ASHLEY GILL\\n3 Lappage Court Telephone: 01882 652349  \\nTyler Green, Bucks. Mobile: 07717 121824 \\nHP8 4JD Email: ashleygill2023@gotmail.com\\nPersonal Details\\nSummary\\n• Business studies with Spanish undergraduate.\\n• Ability to speak French and Spanish.\\n• Extensive business experience including an internship with Top Choice Holidays.\\nEducation And Qualifications\\n2008 – present Buckinghamshire Edge University \\nBA International Business Studies with Spanish (expected 2:1)\\n• Study semester at The University of Valloid (Spain).\\n• Six-month work placement in Madrid.\\n• Relevant modules included: Business Planning; Sales Promotion and\\nMarketing; and Business Operations Management.\\n2000 – 2007 Freebridge School\\nA-Levels: Business Studies (B), French (C)\\n8 GCSEs including Maths, English, Spanish and French\\nWork History\\n2008 – 2011 Buckinghamshire Edge University - Librarian/tour guide\\n• General administrative and customer service roles.\\n2011 (Feb–Aug) Audigest S.A. (Madrid) – Audit Assistant\\n• Six months’ work experience in an international bank.\\n• Liaising with colleagues and clients in English and Spanish.\\n2010 (June–Dec) Finsbury’s supermarket (Hazelbridge) – Supervisor\\n• Managing a small team.\\n• Customer service in a busy competitive environment.\\n2010 (Jan–Aug) Top Choice Holidays and Flights Ltd (Low Wycombe)\\nFinancial Assistant/Supervisor\\n• Working in a range of teams to manage complex financial processes.\\n2007 (Jul–Aug) Dogs Protection League – General Assistant\\n• Dealing with enquiries and selling packages to a range of clients.\\n2006 (Jan–Dec) McHenry’s Restaurant (Low Wycombe) – Supervisor\\nVoluntary Experience\\n2007/2011 Teaching English in Mexico/Spain\\nInterests\\nActive member of University Business Club – Winner of the ‘Bucks Best Business Pitch’ award in 2010 Enterprise\\nweek, judged by Michael Eavis.Relate  your degree to\\nthe job by listing your\\nrelevant modules/\\ndissertation.\\nBriefly list\\nyour relevant\\nduties.Skills_based_CV.qxd  5/8/11  3:55 pm  Page 1\\nExample of a skills-based CV', metadata={'source': '/Users/karen/Desktop/MachineLearning/RAG_example/skills-based-cv.pdf', 'page': 0}),\n",
       " Document(page_content='Skills And Achievements\\nEffective communication\\n• Able to communicate effectively with a wide range of clients and colleagues, by showing interest, carefully\\nlistening to needs and appropriately adjusting my message, as demonstrated during my time at Finsbury’s\\nSupermarket.\\n• Strong presentation skills and confidence demonstrated by experience of delivering presentations in different\\nlanguages to groups of five to fifty.\\nCustomer service\\n• Ability to quickly build rapport with customers and calmly deal with any problems as shown during my retail\\nexperience in high pressure environments.\\n• Capacity to maintain professional relationships through email and other written correspondence, for example,\\nat Audigest in Madrid, where I built longstanding business relationships with customers and colleagues across\\nthe globe.\\nTeamwork\\n• At Top Choice Holidays demonstrated excellent teamwork skills in a busy financial environment, such as an\\nability to listen to clients and managers, perform my role to a high level and support colleagues, resulting in\\npromotion.\\nAdministration\\n• Excellent ability to plan ahead and manage time effectively, for example, \\nmanaging complex roles during my internship at Top Choice Holidays.\\n• Gathered data from a wide range of sources during my dissertation \\nwhilst balancing my other studies and two jobs, resulting in a 73% grade. \\nExperience of travellers’ needs\\n• Recent travel consultancy experience gives me an in-depth understanding of the expectations of holiday\\ncustomers and the competitive nature of the industry.\\n• International travel experience and language ability give me an empathy with travellers and a passion for\\nhelping them find a unique holiday experience.\\nInitiative\\n• Self-funding an evening course in bookkeeping during my first accountancy role demonstrated my ability to\\nplan ahead and take control of my career.\\n• Successful study and work in Spain and Mexico show that I can creatively develop my skills and experience and\\nadapt to new and different environments.\\nSales knowledge\\n• Wide experience of financial roles gives me an awareness of the tight monetary pressures which drive UK\\nservice industries.\\n• Raised sales at The Dogs Protection League by 12% by up selling add-on packages to new and existing\\ncustomers.\\nLanguage ability\\n• Spanish fluency obtained working overseas, French - semi-fluent.\\nReferees\\nProfessional: Mr. Jose Andreas, Management Accountant, Audigest, Avenida de Concha Espina 2, Madrid, ES-\\n28036, +34 91 398 5476, j.andreas@audigest.es\\nAcademic: Dr. Jane Luffle, Personal Tutor, Buckinghamshire Edge University, Due Road, Low Wycombe, Bucks,\\nHD15 3DL, 01628 435 6784, j.luffle@bedge.ac.uk Prove you have each of the\\nskills required by outlining\\nwhere you performed them\\nand how you performed\\nthem well.\\nInclude all your referee details including their email and\\nphone number (but ask for their permission first).Make sure you carefully assess\\nthe job advert/job description\\nand address all the skills they\\nrequire.Skills_based_CV.qxd  5/8/11  3:55 pm  Page 2', metadata={'source': '/Users/karen/Desktop/MachineLearning/RAG_example/skills-based-cv.pdf', 'page': 1})]"
      ]
     },
     "execution_count": 21,
     "metadata": {},
     "output_type": "execute_result"
    }
   ],
   "source": [
    "from langchain_community.document_loaders import PyPDFLoader\n",
    "loader = PyPDFLoader(\"/Users/karen/Desktop/MachineLearning/RAG_example/skills-based-cv.pdf\")\n",
    "pages = loader.load_and_split()\n",
    "pages"
   ]
  },
  {
   "cell_type": "code",
   "execution_count": 22,
   "metadata": {},
   "outputs": [],
   "source": [
    "from langchain_community.vectorstores import DocArrayInMemorySearch\n",
    "\n",
    "vectorstore = DocArrayInMemorySearch.from_documents(pages, embedding=embeddings)\n",
    "\n",
    "retriever = vectorstore.as_retriever()"
   ]
  },
  {
   "cell_type": "code",
   "execution_count": 23,
   "metadata": {},
   "outputs": [
    {
     "name": "stdout",
     "output_type": "stream",
     "text": [
      "Question: What are his research interests?\n",
      "Answer: The provided CV does not mention Ashley Gill's research interests. The CV focuses on his education, work experience, skills, and achievements, but it does not provide information about his research interests or any academic projects he may have worked on during his studies.\n",
      "\n",
      "Question: Does he have teaching experience?\n",
      "Answer: According to the provided context, Ashley Gill has voluntary teaching experience in Mexico and Spain. This is mentioned in the \"Voluntary Experience\" section of his CV:\n",
      "\n",
      "```\n",
      "2007/2011 Teaching English in Mexico/Spain\n",
      "```\n",
      "\n",
      "Question: What are his hobbies?\n",
      "Answer: According to the document, Ashley Gill's interests include:\n",
      "\n",
      "* Active member of University Business Club\n",
      "* Winner of the 'Bucks Best Business Pitch' award in 2010 Enterprise week, judged by Michael Eavis.\n",
      "* Teaching English in Mexico/Spain (voluntary experience)\n",
      "\n",
      "There is no specific mention of his hobbies.\n",
      "\n"
     ]
    }
   ],
   "source": [
    "questions = [\n",
    "    \"What are his research interests?\",\n",
    "    \"Does he have teaching experience?\",\n",
    "    \"What are his hobbies?\"\n",
    "]\n",
    "\n",
    "for question in questions:\n",
    "    retrieval_query = f\"Query the vector store for: {question}\"\n",
    "    \n",
    "    retrieval_response = retriever.invoke(retrieval_query)\n",
    "    \n",
    "    formatted_query_for_model = prompt.format(context=retrieval_response, question=question)\n",
    "\n",
    "    final_model_response =  model.invoke(formatted_query_for_model)\n",
    "\n",
    "    parsed_response = parser.parse(final_model_response)\n",
    "\n",
    "    print(f\"Question: {question}\")\n",
    "    print(f\"Answer: {parsed_response}\")\n",
    "    print()"
   ]
  }
 ],
 "metadata": {
  "kernelspec": {
   "display_name": ".venv",
   "language": "python",
   "name": "python3"
  },
  "language_info": {
   "codemirror_mode": {
    "name": "ipython",
    "version": 3
   },
   "file_extension": ".py",
   "mimetype": "text/x-python",
   "name": "python",
   "nbconvert_exporter": "python",
   "pygments_lexer": "ipython3",
   "version": "3.9.6"
  }
 },
 "nbformat": 4,
 "nbformat_minor": 2
}
